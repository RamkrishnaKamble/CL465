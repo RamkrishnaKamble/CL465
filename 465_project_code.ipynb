{
  "cells": [
    {
      "cell_type": "markdown",
      "metadata": {
        "id": "view-in-github",
        "colab_type": "text"
      },
      "source": [
        "<a href=\"https://colab.research.google.com/github/RamkrishnaKamble/CL465/blob/main/465_project_code.ipynb\" target=\"_parent\"><img src=\"https://colab.research.google.com/assets/colab-badge.svg\" alt=\"Open In Colab\"/></a>"
      ]
    },
    {
      "cell_type": "code",
      "execution_count": null,
      "metadata": {
        "id": "TjOl5ufy5hxQ"
      },
      "outputs": [],
      "source": [
        "import numpy as np\n",
        "import pandas as pd\n",
        "from pandas_datareader import data as wb\n",
        "import datetime as dt\n",
        "import matplotlib.pyplot as plt\n",
        "import seaborn as sns\n",
        "from scipy.stats import norm"
      ]
    },
    {
      "cell_type": "code",
      "execution_count": null,
      "metadata": {
        "id": "5zOyGUlt5hxV"
      },
      "outputs": [],
      "source": [
        "endDate = dt.datetime.now()\n",
        "startDate = endDate - dt.timedelta(days=300)\n",
        "def import_stock_data(tickers, start = startDate):\n",
        "    data = pd.DataFrame()\n",
        "    if len([tickers]) ==1:\n",
        "        data[tickers] = wb.DataReader(tickers, data_source='yahoo', start = start)['Adj Close']\n",
        "        data = pd.DataFrame(data)\n",
        "    else:\n",
        "        for t in tickers:\n",
        "            data[t] = wb.DataReader(t, data_source='yahoo', start = start)['Adj Close']\n",
        "    return(data)"
      ]
    },
    {
      "cell_type": "code",
      "execution_count": null,
      "metadata": {
        "id": "WKhQTKWq5hxW"
      },
      "outputs": [],
      "source": [
        "#Single Simulation\n",
        "plt.style.use('fivethirtyeight')\n",
        "endDate = dt.datetime.now()\n",
        "startDate = endDate - dt.timedelta(days=100)\n",
        "data1 = import_stock_data(\"googl\", start = startDate)\n",
        "log_returns_s = (np.log(1+data1.pct_change()))\n",
        "drift = log_returns_s.mean() - (0.5*log_returns_s.var())\n",
        "dr_s = np.exp(drift +  (log_returns_s.std()*np.random.normal(loc = 0, scale = np.sqrt(1/100) * log_returns_s.std())))\n",
        "pred_prices = dr_s*data1\n",
        "pred_prices.plot()\n",
        "plt.ylabel('price')\n",
        "plt.axhline(y=float( data1.iloc[-1]), color='k', linestyle='dashed',linewidth=2,label = 'Current Value: ' + str(round(float( data1.iloc[-1]),3)))"
      ]
    },
    {
      "cell_type": "code",
      "execution_count": null,
      "metadata": {
        "id": "KUVAYRrx5hxX"
      },
      "outputs": [],
      "source": [
        "def log_returns(data):\n",
        "    return (np.log(1+data.pct_change()))"
      ]
    },
    {
      "cell_type": "code",
      "execution_count": null,
      "metadata": {
        "id": "y333QZY85hxY"
      },
      "outputs": [],
      "source": [
        "def drift_calc(data):\n",
        "    lr = log_returns(data)\n",
        "    u = lr.mean()\n",
        "    var = lr.var()\n",
        "    drift = u-(0.5*var)\n",
        "    try:\n",
        "        return drift.values\n",
        "    except:\n",
        "        return drift"
      ]
    },
    {
      "cell_type": "code",
      "execution_count": null,
      "metadata": {
        "id": "vLg-mx8U5hxZ"
      },
      "outputs": [],
      "source": [
        "def daily_returns(data, days, iterations):\n",
        "    ft = drift_calc(data)\n",
        "    try:\n",
        "        stv = log_returns(data).std().values\n",
        "    except:\n",
        "        stv = log_returns(data).std()\n",
        "    dr = np.exp(ft + stv * norm.ppf(np.random.rand(days, iterations)))\n",
        "    return dr"
      ]
    },
    {
      "cell_type": "code",
      "execution_count": null,
      "metadata": {
        "id": "SEQIMMp15hxZ"
      },
      "outputs": [],
      "source": [
        "def probs_find(predicted, higherthan, on = 'value'):\n",
        "    if on == 'return':\n",
        "        predicted0 = predicted.iloc[0,0]\n",
        "        predicted = predicted.iloc[-1]\n",
        "        predList = list(predicted)\n",
        "        over = [(i*100)/predicted0 for i in predList if ((i-predicted0)*100)/predicted0 >= higherthan]\n",
        "        less = [(i*100)/predicted0 for i in predList if ((i-predicted0)*100)/predicted0 < higherthan]\n",
        "    elif on == 'value':\n",
        "        predicted = predicted.iloc[-1]\n",
        "        predList = list(predicted)\n",
        "        over = [i for i in predList if i >= higherthan]\n",
        "        less = [i for i in predList if i < higherthan]\n",
        "    else:\n",
        "        print(\"'on' must be either value or return\")\n",
        "    return (len(over)/(len(over)+len(less)))"
      ]
    },
    {
      "cell_type": "code",
      "execution_count": null,
      "metadata": {
        "id": "410FQgQI5hxb"
      },
      "outputs": [],
      "source": [
        "def simulate_mc(data, days, iterations, plot=True):\n",
        "    # Generate daily returns\n",
        "    returns = daily_returns(data, days, iterations)\n",
        "    # Create empty matrix\n",
        "    price_list = np.zeros_like(returns)\n",
        "    # Put the last actual price in the first row of matrix. \n",
        "    price_list[0] = data.iloc[-1]\n",
        "    # Calculate the price of each day\n",
        "    for t in range(1,days):\n",
        "        price_list[t] = price_list[t-1]*returns[t]\n",
        "    #Storing Value of simulations\n",
        "    price_simulations_t = pd.DataFrame(price_list)\n",
        "    # Plot Option\n",
        "    if plot == True:\n",
        "        x = pd.DataFrame(price_list).iloc[-1]\n",
        "        sns.distplot(x)\n",
        "        plt.xlabel(\"Stock Price\")\n",
        "        plt.show()\n",
        "    # Graphing simulations in sequence\n",
        "    plt.figure(figsize=(10,5))\n",
        "    plt.plot(price_simulations_t,linestyle='-',linewidth=1)\n",
        "    plt.axhline(y=float( data.iloc[-1]), color='k', linestyle='dashed',linewidth=2,label = 'Current Value: ' + str(round(float( data.iloc[-1]),3)))\n",
        "    \n",
        "    title = \" Monte Carlo Simulations\"\n",
        "    plt.title(title)\n",
        "    plt.xlabel('Time')\n",
        "    plt.ylabel('Price')\n",
        "    plt.xticks(rotation=45)\n",
        "    plt.legend(loc=\"upper right\")    \n",
        "    plt.show()\n",
        "    # Printing information about stock\n",
        "    try:\n",
        "        [print(nam) for nam in data.columns]\n",
        "    except:\n",
        "        print(data.name)\n",
        "    print(f\"Days: {days-1}\")\n",
        "    print(f\"Expected Value: ${round(pd.DataFrame(price_list).iloc[-1].mean(),2)}\")\n",
        "    print(f\"Return: {round(100*(pd.DataFrame(price_list).iloc[-1].mean()-data.iloc[-1])/pd.DataFrame(price_list).iloc[-1].mean(),2)}%\")\n",
        "    print(f\"Probability of Breakeven: {probs_find(pd.DataFrame(price_list),0, on='return')}\")\n",
        "   \n",
        "          \n",
        "    return pd.DataFrame(price_list)"
      ]
    },
    {
      "cell_type": "code",
      "execution_count": null,
      "metadata": {
        "id": "prpASK265hxc"
      },
      "outputs": [],
      "source": [
        "def monte_carlo(tickers, days_forecast, iterations, start_date = '2000-1-1', plotten=False):\n",
        "    data = import_stock_data(tickers, start=start_date)\n",
        "    simulatedDF = []\n",
        "    for t in range(len(tickers)):\n",
        "        y = simulate_mc(data.iloc[:,t], (days_forecast+1), iterations)\n",
        "        if plotten == True:\n",
        "            forplot = y.iloc[:,0:10]\n",
        "            forplot.plot(figsize=(15,4))\n",
        "        y['ticker'] = tickers[t]\n",
        "        cols = y.columns.tolist()\n",
        "        cols = cols[-1:] + cols[:-1]\n",
        "        y = y[cols]\n",
        "        simulatedDF.append(y)\n",
        "    simulatedDF = pd.concat(simulatedDF)\n",
        "    return simulatedDF"
      ]
    },
    {
      "cell_type": "code",
      "execution_count": null,
      "metadata": {
        "id": "v7HBoC9A5hxd"
      },
      "outputs": [],
      "source": [
        "ret_sim_df = monte_carlo(['GOOG','FB','AAPL'], 100, 10000,  start_date= startDate)"
      ]
    },
    {
      "cell_type": "code",
      "execution_count": null,
      "metadata": {
        "id": "2j3YkYdo5hxe"
      },
      "outputs": [],
      "source": [
        ""
      ]
    }
  ],
  "metadata": {
    "interpreter": {
      "hash": "916dbcbb3f70747c44a77c7bcd40155683ae19c65e1c03b4aa3499c5328201f1"
    },
    "kernelspec": {
      "display_name": "Python 3.8.10 64-bit",
      "language": "python",
      "name": "python3"
    },
    "language_info": {
      "codemirror_mode": {
        "name": "ipython",
        "version": 3
      },
      "file_extension": ".py",
      "mimetype": "text/x-python",
      "name": "python",
      "nbconvert_exporter": "python",
      "pygments_lexer": "ipython3",
      "version": "3.8.10"
    },
    "orig_nbformat": 4,
    "colab": {
      "name": "465_project_code.ipynb",
      "provenance": [],
      "include_colab_link": true
    }
  },
  "nbformat": 4,
  "nbformat_minor": 0
}